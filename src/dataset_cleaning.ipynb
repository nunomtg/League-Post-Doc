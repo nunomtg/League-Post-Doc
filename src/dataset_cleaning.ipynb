{
 "cells": [
  {
   "cell_type": "code",
   "execution_count": 17,
   "metadata": {},
   "outputs": [],
   "source": [
    "import polars as pl"
   ]
  },
  {
   "cell_type": "code",
   "execution_count": 34,
   "metadata": {},
   "outputs": [],
   "source": [
    "PATH = 'dataset\\\\2023_LoL_esports_match_data_from_OraclesElixir.csv'\n",
    "COLUMNS_NEEDED = ['gameid', 'side', 'position', 'champion', 'result']\n",
    "COLUMNS_TYPES = {\n",
    "    'gameid': pl.Utf8,\n",
    "    'side': pl.Utf8,\n",
    "    'position': pl.Utf8,\n",
    "    'champion': pl.Utf8,\n",
    "    'result': pl.Int8\n",
    "}"
   ]
  },
  {
   "cell_type": "code",
   "execution_count": 35,
   "metadata": {},
   "outputs": [],
   "source": [
    "df = pl.read_csv(\n",
    "            source=PATH,\n",
    "            has_header=True,\n",
    "            columns=COLUMNS_NEEDED,\n",
    "            dtypes=COLUMNS_TYPES\n",
    "            ).drop_nulls()"
   ]
  },
  {
   "cell_type": "code",
   "execution_count": 36,
   "metadata": {},
   "outputs": [],
   "source": [
    "assert df['gameid'].n_unique() == df.shape[0] / 10"
   ]
  },
  {
   "cell_type": "code",
   "execution_count": 37,
   "metadata": {},
   "outputs": [
    {
     "data": {
      "text/html": [
       "<div><style>\n",
       ".dataframe > thead > tr > th,\n",
       ".dataframe > tbody > tr > td {\n",
       "  text-align: right;\n",
       "}\n",
       "</style>\n",
       "<small>shape: (77_820, 5)</small><table border=\"1\" class=\"dataframe\"><thead><tr><th>gameid</th><th>side</th><th>position</th><th>champion</th><th>result</th></tr><tr><td>str</td><td>str</td><td>str</td><td>str</td><td>i8</td></tr></thead><tbody><tr><td>&quot;ESPORTSTMNT06_…</td><td>&quot;Blue&quot;</td><td>&quot;top&quot;</td><td>&quot;Jax&quot;</td><td>1</td></tr><tr><td>&quot;ESPORTSTMNT06_…</td><td>&quot;Blue&quot;</td><td>&quot;jng&quot;</td><td>&quot;Poppy&quot;</td><td>1</td></tr><tr><td>&quot;ESPORTSTMNT06_…</td><td>&quot;Blue&quot;</td><td>&quot;mid&quot;</td><td>&quot;Taliyah&quot;</td><td>1</td></tr><tr><td>&quot;ESPORTSTMNT06_…</td><td>&quot;Blue&quot;</td><td>&quot;bot&quot;</td><td>&quot;Ezreal&quot;</td><td>1</td></tr><tr><td>&quot;ESPORTSTMNT06_…</td><td>&quot;Blue&quot;</td><td>&quot;sup&quot;</td><td>&quot;Karma&quot;</td><td>1</td></tr><tr><td>&quot;ESPORTSTMNT06_…</td><td>&quot;Red&quot;</td><td>&quot;top&quot;</td><td>&quot;Sejuani&quot;</td><td>0</td></tr><tr><td>&quot;ESPORTSTMNT06_…</td><td>&quot;Red&quot;</td><td>&quot;jng&quot;</td><td>&quot;Viego&quot;</td><td>0</td></tr><tr><td>&quot;ESPORTSTMNT06_…</td><td>&quot;Red&quot;</td><td>&quot;mid&quot;</td><td>&quot;Syndra&quot;</td><td>0</td></tr><tr><td>&quot;ESPORTSTMNT06_…</td><td>&quot;Red&quot;</td><td>&quot;bot&quot;</td><td>&quot;Zeri&quot;</td><td>0</td></tr><tr><td>&quot;ESPORTSTMNT06_…</td><td>&quot;Red&quot;</td><td>&quot;sup&quot;</td><td>&quot;Yuumi&quot;</td><td>0</td></tr><tr><td>&quot;ESPORTSTMNT06_…</td><td>&quot;Blue&quot;</td><td>&quot;top&quot;</td><td>&quot;K&#x27;Sante&quot;</td><td>0</td></tr><tr><td>&quot;ESPORTSTMNT06_…</td><td>&quot;Blue&quot;</td><td>&quot;jng&quot;</td><td>&quot;Xin Zhao&quot;</td><td>0</td></tr><tr><td>&hellip;</td><td>&hellip;</td><td>&hellip;</td><td>&hellip;</td><td>&hellip;</td></tr><tr><td>&quot;ESPORTSTMNT03_…</td><td>&quot;Red&quot;</td><td>&quot;bot&quot;</td><td>&quot;Kai&#x27;Sa&quot;</td><td>1</td></tr><tr><td>&quot;ESPORTSTMNT03_…</td><td>&quot;Red&quot;</td><td>&quot;sup&quot;</td><td>&quot;Nautilus&quot;</td><td>1</td></tr><tr><td>&quot;ESPORTSTMNT03_…</td><td>&quot;Blue&quot;</td><td>&quot;top&quot;</td><td>&quot;Ornn&quot;</td><td>1</td></tr><tr><td>&quot;ESPORTSTMNT03_…</td><td>&quot;Blue&quot;</td><td>&quot;jng&quot;</td><td>&quot;Wukong&quot;</td><td>1</td></tr><tr><td>&quot;ESPORTSTMNT03_…</td><td>&quot;Blue&quot;</td><td>&quot;mid&quot;</td><td>&quot;Azir&quot;</td><td>1</td></tr><tr><td>&quot;ESPORTSTMNT03_…</td><td>&quot;Blue&quot;</td><td>&quot;bot&quot;</td><td>&quot;Varus&quot;</td><td>1</td></tr><tr><td>&quot;ESPORTSTMNT03_…</td><td>&quot;Blue&quot;</td><td>&quot;sup&quot;</td><td>&quot;Alistar&quot;</td><td>1</td></tr><tr><td>&quot;ESPORTSTMNT03_…</td><td>&quot;Red&quot;</td><td>&quot;top&quot;</td><td>&quot;Jax&quot;</td><td>0</td></tr><tr><td>&quot;ESPORTSTMNT03_…</td><td>&quot;Red&quot;</td><td>&quot;jng&quot;</td><td>&quot;Viego&quot;</td><td>0</td></tr><tr><td>&quot;ESPORTSTMNT03_…</td><td>&quot;Red&quot;</td><td>&quot;mid&quot;</td><td>&quot;Akali&quot;</td><td>0</td></tr><tr><td>&quot;ESPORTSTMNT03_…</td><td>&quot;Red&quot;</td><td>&quot;bot&quot;</td><td>&quot;Ashe&quot;</td><td>0</td></tr><tr><td>&quot;ESPORTSTMNT03_…</td><td>&quot;Red&quot;</td><td>&quot;sup&quot;</td><td>&quot;Rell&quot;</td><td>0</td></tr></tbody></table></div>"
      ],
      "text/plain": [
       "shape: (77_820, 5)\n",
       "┌───────────────────────┬──────┬──────────┬──────────┬────────┐\n",
       "│ gameid                ┆ side ┆ position ┆ champion ┆ result │\n",
       "│ ---                   ┆ ---  ┆ ---      ┆ ---      ┆ ---    │\n",
       "│ str                   ┆ str  ┆ str      ┆ str      ┆ i8     │\n",
       "╞═══════════════════════╪══════╪══════════╪══════════╪════════╡\n",
       "│ ESPORTSTMNT06_2753012 ┆ Blue ┆ top      ┆ Jax      ┆ 1      │\n",
       "│ ESPORTSTMNT06_2753012 ┆ Blue ┆ jng      ┆ Poppy    ┆ 1      │\n",
       "│ ESPORTSTMNT06_2753012 ┆ Blue ┆ mid      ┆ Taliyah  ┆ 1      │\n",
       "│ ESPORTSTMNT06_2753012 ┆ Blue ┆ bot      ┆ Ezreal   ┆ 1      │\n",
       "│ …                     ┆ …    ┆ …        ┆ …        ┆ …      │\n",
       "│ ESPORTSTMNT03_3182739 ┆ Red  ┆ jng      ┆ Viego    ┆ 0      │\n",
       "│ ESPORTSTMNT03_3182739 ┆ Red  ┆ mid      ┆ Akali    ┆ 0      │\n",
       "│ ESPORTSTMNT03_3182739 ┆ Red  ┆ bot      ┆ Ashe     ┆ 0      │\n",
       "│ ESPORTSTMNT03_3182739 ┆ Red  ┆ sup      ┆ Rell     ┆ 0      │\n",
       "└───────────────────────┴──────┴──────────┴──────────┴────────┘"
      ]
     },
     "execution_count": 37,
     "metadata": {},
     "output_type": "execute_result"
    }
   ],
   "source": [
    "df"
   ]
  },
  {
   "cell_type": "code",
   "execution_count": null,
   "metadata": {},
   "outputs": [],
   "source": []
  }
 ],
 "metadata": {
  "kernelspec": {
   "display_name": "main_env",
   "language": "python",
   "name": "python3"
  },
  "language_info": {
   "codemirror_mode": {
    "name": "ipython",
    "version": 3
   },
   "file_extension": ".py",
   "mimetype": "text/x-python",
   "name": "python",
   "nbconvert_exporter": "python",
   "pygments_lexer": "ipython3",
   "version": "3.10.9"
  },
  "orig_nbformat": 4
 },
 "nbformat": 4,
 "nbformat_minor": 2
}
